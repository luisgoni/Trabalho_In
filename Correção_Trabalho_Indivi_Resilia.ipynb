{
  "nbformat": 4,
  "nbformat_minor": 0,
  "metadata": {
    "colab": {
      "provenance": [],
      "authorship_tag": "ABX9TyMOTLRD3eO/vJOmDxzD4uHN",
      "include_colab_link": true
    },
    "kernelspec": {
      "name": "python3",
      "display_name": "Python 3"
    },
    "language_info": {
      "name": "python"
    }
  },
  "cells": [
    {
      "cell_type": "markdown",
      "metadata": {
        "id": "view-in-github",
        "colab_type": "text"
      },
      "source": [
        "<a href=\"https://colab.research.google.com/github/luisgoni/Trabalho_In/blob/main/Corre%C3%A7%C3%A3o_Trabalho_Indivi_Resilia.ipynb\" target=\"_parent\"><img src=\"https://colab.research.google.com/assets/colab-badge.svg\" alt=\"Open In Colab\"/></a>"
      ]
    },
    {
      "cell_type": "markdown",
      "source": [
        "#Projto Individual Mod_4 na empresa Resilia Educaçao...\n",
        "-Temos como desfio uma empresa de desenvolvimento de softwares, onde ela quer um Relatório, através da Analise exploratoria dos dados fornecidos por ela.\n",
        "\n",
        "-A empresa concluiu que precisava de uma Análise dos dados de um projeto sendo desenvolvido na sua empresa.\n",
        "\n",
        "##Temos como prioridade gerar um Relatorio de progresso diario, para mostrar o quão produtivo está sendo o trabalho dos funcionarios desta empresa.\n",
        "\n",
        "-Com as metricas alinhadas podemos responder as perguntas que foram fornceidas para a analise dos dados, que sao elas:\n",
        "\n",
        "■ Total de Horas Trabalhadas\n",
        "\n",
        "■ Média Diária de Horas Trabalhadas\n",
        "\n",
        "■ Total de Bugs Corrigidos\n",
        "\n",
        "■ Média Diária de Bugs Corrigidos\n",
        "\n",
        "■ Total de Tarefas Concluídas\n",
        "\n",
        "■ Média Diária de Tarefas Concluídas\n",
        "\n",
        "■ Produtividade Diária (Tarefas Concluídas por Hora)\n",
        "\n"
      ],
      "metadata": {
        "id": "rgrURgYsEnOe"
      }
    },
    {
      "cell_type": "markdown",
      "source": [
        "## Importando as Bibliotecas;\n",
        "- Colocamos apelidos nas bibliotecas para facilitar a criação dos codígos."
      ],
      "metadata": {
        "id": "IA8-nFsvjH77"
      }
    },
    {
      "cell_type": "code",
      "source": [
        "#Começando os trabalhos, importando as bibliotecas, e atribuindo um apelido a elas;\n",
        "import pandas as pd\n",
        "import numpy as np\n",
        "import matplotlib.pyplot as plt\n",
        "import seaborn as sns"
      ],
      "metadata": {
        "id": "K4Q4tnl_JX6U"
      },
      "execution_count": null,
      "outputs": []
    },
    {
      "cell_type": "markdown",
      "source": [
        "## Com as bibliotecas instaladas podemos dar inicio a extração de informações, através dos Dados asseguir;\n",
        "- Criando um Data Frame a partir dos Dados fornecidos;"
      ],
      "metadata": {
        "id": "Xcy7_V5uLrm8"
      }
    },
    {
      "cell_type": "code",
      "source": [
        "dados_Forne = {\n",
        "    'Dia': ['Segunda-Feira', 'Terça-Feira', 'Quarta-feira', 'Quinta-Feira', 'Sexta-Feira', 'Sábado', 'Domingo'],\n",
        "    'Horas Trabalhadas': [6, 7, 8, 6, 7, 5, 4],\n",
        "    'Bugs Corrigidos': [3, 2, 1, 4, 3, 2, 1],\n",
        "    'Tarefas Concluídas': [5, 4, 6, 4, 5, 3, 2]\n",
        "}\n",
        "\n",
        "df_Relatorio = pd.DataFrame(dados_Forne)\n",
        "df_Relatorio"
      ],
      "metadata": {
        "colab": {
          "base_uri": "https://localhost:8080/",
          "height": 269
        },
        "id": "-uML1ZG3MDOA",
        "outputId": "24c40262-fc02-45f7-c490-5585401da603"
      },
      "execution_count": null,
      "outputs": [
        {
          "output_type": "execute_result",
          "data": {
            "text/plain": [
              "             Dia  Horas Trabalhadas  Bugs Corrigidos  Tarefas Concluídas\n",
              "0  Segunda-Feira                  6                3                   5\n",
              "1    Terça-Feira                  7                2                   4\n",
              "2   Quarta-feira                  8                1                   6\n",
              "3   Quinta-Feira                  6                4                   4\n",
              "4    Sexta-Feira                  7                3                   5\n",
              "5         Sábado                  5                2                   3\n",
              "6        Domingo                  4                1                   2"
            ],
            "text/html": [
              "\n",
              "\n",
              "  <div id=\"df-0da50770-7c30-417b-bc79-15f97483509f\">\n",
              "    <div class=\"colab-df-container\">\n",
              "      <div>\n",
              "<style scoped>\n",
              "    .dataframe tbody tr th:only-of-type {\n",
              "        vertical-align: middle;\n",
              "    }\n",
              "\n",
              "    .dataframe tbody tr th {\n",
              "        vertical-align: top;\n",
              "    }\n",
              "\n",
              "    .dataframe thead th {\n",
              "        text-align: right;\n",
              "    }\n",
              "</style>\n",
              "<table border=\"1\" class=\"dataframe\">\n",
              "  <thead>\n",
              "    <tr style=\"text-align: right;\">\n",
              "      <th></th>\n",
              "      <th>Dia</th>\n",
              "      <th>Horas Trabalhadas</th>\n",
              "      <th>Bugs Corrigidos</th>\n",
              "      <th>Tarefas Concluídas</th>\n",
              "    </tr>\n",
              "  </thead>\n",
              "  <tbody>\n",
              "    <tr>\n",
              "      <th>0</th>\n",
              "      <td>Segunda-Feira</td>\n",
              "      <td>6</td>\n",
              "      <td>3</td>\n",
              "      <td>5</td>\n",
              "    </tr>\n",
              "    <tr>\n",
              "      <th>1</th>\n",
              "      <td>Terça-Feira</td>\n",
              "      <td>7</td>\n",
              "      <td>2</td>\n",
              "      <td>4</td>\n",
              "    </tr>\n",
              "    <tr>\n",
              "      <th>2</th>\n",
              "      <td>Quarta-feira</td>\n",
              "      <td>8</td>\n",
              "      <td>1</td>\n",
              "      <td>6</td>\n",
              "    </tr>\n",
              "    <tr>\n",
              "      <th>3</th>\n",
              "      <td>Quinta-Feira</td>\n",
              "      <td>6</td>\n",
              "      <td>4</td>\n",
              "      <td>4</td>\n",
              "    </tr>\n",
              "    <tr>\n",
              "      <th>4</th>\n",
              "      <td>Sexta-Feira</td>\n",
              "      <td>7</td>\n",
              "      <td>3</td>\n",
              "      <td>5</td>\n",
              "    </tr>\n",
              "    <tr>\n",
              "      <th>5</th>\n",
              "      <td>Sábado</td>\n",
              "      <td>5</td>\n",
              "      <td>2</td>\n",
              "      <td>3</td>\n",
              "    </tr>\n",
              "    <tr>\n",
              "      <th>6</th>\n",
              "      <td>Domingo</td>\n",
              "      <td>4</td>\n",
              "      <td>1</td>\n",
              "      <td>2</td>\n",
              "    </tr>\n",
              "  </tbody>\n",
              "</table>\n",
              "</div>\n",
              "      <button class=\"colab-df-convert\" onclick=\"convertToInteractive('df-0da50770-7c30-417b-bc79-15f97483509f')\"\n",
              "              title=\"Convert this dataframe to an interactive table.\"\n",
              "              style=\"display:none;\">\n",
              "\n",
              "  <svg xmlns=\"http://www.w3.org/2000/svg\" height=\"24px\"viewBox=\"0 0 24 24\"\n",
              "       width=\"24px\">\n",
              "    <path d=\"M0 0h24v24H0V0z\" fill=\"none\"/>\n",
              "    <path d=\"M18.56 5.44l.94 2.06.94-2.06 2.06-.94-2.06-.94-.94-2.06-.94 2.06-2.06.94zm-11 1L8.5 8.5l.94-2.06 2.06-.94-2.06-.94L8.5 2.5l-.94 2.06-2.06.94zm10 10l.94 2.06.94-2.06 2.06-.94-2.06-.94-.94-2.06-.94 2.06-2.06.94z\"/><path d=\"M17.41 7.96l-1.37-1.37c-.4-.4-.92-.59-1.43-.59-.52 0-1.04.2-1.43.59L10.3 9.45l-7.72 7.72c-.78.78-.78 2.05 0 2.83L4 21.41c.39.39.9.59 1.41.59.51 0 1.02-.2 1.41-.59l7.78-7.78 2.81-2.81c.8-.78.8-2.07 0-2.86zM5.41 20L4 18.59l7.72-7.72 1.47 1.35L5.41 20z\"/>\n",
              "  </svg>\n",
              "      </button>\n",
              "\n",
              "\n",
              "\n",
              "    <div id=\"df-8b7b63a0-1683-4388-9feb-ecf4e6b83ee2\">\n",
              "      <button class=\"colab-df-quickchart\" onclick=\"quickchart('df-8b7b63a0-1683-4388-9feb-ecf4e6b83ee2')\"\n",
              "              title=\"Suggest charts.\"\n",
              "              style=\"display:none;\">\n",
              "\n",
              "<svg xmlns=\"http://www.w3.org/2000/svg\" height=\"24px\"viewBox=\"0 0 24 24\"\n",
              "     width=\"24px\">\n",
              "    <g>\n",
              "        <path d=\"M19 3H5c-1.1 0-2 .9-2 2v14c0 1.1.9 2 2 2h14c1.1 0 2-.9 2-2V5c0-1.1-.9-2-2-2zM9 17H7v-7h2v7zm4 0h-2V7h2v10zm4 0h-2v-4h2v4z\"/>\n",
              "    </g>\n",
              "</svg>\n",
              "      </button>\n",
              "    </div>\n",
              "\n",
              "<style>\n",
              "  .colab-df-quickchart {\n",
              "    background-color: #E8F0FE;\n",
              "    border: none;\n",
              "    border-radius: 50%;\n",
              "    cursor: pointer;\n",
              "    display: none;\n",
              "    fill: #1967D2;\n",
              "    height: 32px;\n",
              "    padding: 0 0 0 0;\n",
              "    width: 32px;\n",
              "  }\n",
              "\n",
              "  .colab-df-quickchart:hover {\n",
              "    background-color: #E2EBFA;\n",
              "    box-shadow: 0px 1px 2px rgba(60, 64, 67, 0.3), 0px 1px 3px 1px rgba(60, 64, 67, 0.15);\n",
              "    fill: #174EA6;\n",
              "  }\n",
              "\n",
              "  [theme=dark] .colab-df-quickchart {\n",
              "    background-color: #3B4455;\n",
              "    fill: #D2E3FC;\n",
              "  }\n",
              "\n",
              "  [theme=dark] .colab-df-quickchart:hover {\n",
              "    background-color: #434B5C;\n",
              "    box-shadow: 0px 1px 3px 1px rgba(0, 0, 0, 0.15);\n",
              "    filter: drop-shadow(0px 1px 2px rgba(0, 0, 0, 0.3));\n",
              "    fill: #FFFFFF;\n",
              "  }\n",
              "</style>\n",
              "\n",
              "    <script>\n",
              "      async function quickchart(key) {\n",
              "        const containerElement = document.querySelector('#' + key);\n",
              "        const charts = await google.colab.kernel.invokeFunction(\n",
              "            'suggestCharts', [key], {});\n",
              "      }\n",
              "    </script>\n",
              "\n",
              "      <script>\n",
              "\n",
              "function displayQuickchartButton(domScope) {\n",
              "  let quickchartButtonEl =\n",
              "    domScope.querySelector('#df-8b7b63a0-1683-4388-9feb-ecf4e6b83ee2 button.colab-df-quickchart');\n",
              "  quickchartButtonEl.style.display =\n",
              "    google.colab.kernel.accessAllowed ? 'block' : 'none';\n",
              "}\n",
              "\n",
              "        displayQuickchartButton(document);\n",
              "      </script>\n",
              "      <style>\n",
              "    .colab-df-container {\n",
              "      display:flex;\n",
              "      flex-wrap:wrap;\n",
              "      gap: 12px;\n",
              "    }\n",
              "\n",
              "    .colab-df-convert {\n",
              "      background-color: #E8F0FE;\n",
              "      border: none;\n",
              "      border-radius: 50%;\n",
              "      cursor: pointer;\n",
              "      display: none;\n",
              "      fill: #1967D2;\n",
              "      height: 32px;\n",
              "      padding: 0 0 0 0;\n",
              "      width: 32px;\n",
              "    }\n",
              "\n",
              "    .colab-df-convert:hover {\n",
              "      background-color: #E2EBFA;\n",
              "      box-shadow: 0px 1px 2px rgba(60, 64, 67, 0.3), 0px 1px 3px 1px rgba(60, 64, 67, 0.15);\n",
              "      fill: #174EA6;\n",
              "    }\n",
              "\n",
              "    [theme=dark] .colab-df-convert {\n",
              "      background-color: #3B4455;\n",
              "      fill: #D2E3FC;\n",
              "    }\n",
              "\n",
              "    [theme=dark] .colab-df-convert:hover {\n",
              "      background-color: #434B5C;\n",
              "      box-shadow: 0px 1px 3px 1px rgba(0, 0, 0, 0.15);\n",
              "      filter: drop-shadow(0px 1px 2px rgba(0, 0, 0, 0.3));\n",
              "      fill: #FFFFFF;\n",
              "    }\n",
              "  </style>\n",
              "\n",
              "      <script>\n",
              "        const buttonEl =\n",
              "          document.querySelector('#df-0da50770-7c30-417b-bc79-15f97483509f button.colab-df-convert');\n",
              "        buttonEl.style.display =\n",
              "          google.colab.kernel.accessAllowed ? 'block' : 'none';\n",
              "\n",
              "        async function convertToInteractive(key) {\n",
              "          const element = document.querySelector('#df-0da50770-7c30-417b-bc79-15f97483509f');\n",
              "          const dataTable =\n",
              "            await google.colab.kernel.invokeFunction('convertToInteractive',\n",
              "                                                     [key], {});\n",
              "          if (!dataTable) return;\n",
              "\n",
              "          const docLinkHtml = 'Like what you see? Visit the ' +\n",
              "            '<a target=\"_blank\" href=https://colab.research.google.com/notebooks/data_table.ipynb>data table notebook</a>'\n",
              "            + ' to learn more about interactive tables.';\n",
              "          element.innerHTML = '';\n",
              "          dataTable['output_type'] = 'display_data';\n",
              "          await google.colab.output.renderOutput(dataTable, element);\n",
              "          const docLink = document.createElement('div');\n",
              "          docLink.innerHTML = docLinkHtml;\n",
              "          element.appendChild(docLink);\n",
              "        }\n",
              "      </script>\n",
              "    </div>\n",
              "  </div>\n"
            ]
          },
          "metadata": {},
          "execution_count": 3
        }
      ]
    },
    {
      "cell_type": "markdown",
      "source": [
        "- Checando as Dimensões dos Dados e os espaços em branco no DF."
      ],
      "metadata": {
        "id": "IdCh-PfGDi-C"
      }
    },
    {
      "cell_type": "code",
      "source": [
        "Visualizando_Dimen  = df_Relatorio.shape\n",
        "Visualizando_Dimen"
      ],
      "metadata": {
        "colab": {
          "base_uri": "https://localhost:8080/"
        },
        "id": "oNqiQlbqTEDP",
        "outputId": "92b047b4-281c-40c7-8243-2560ed097d24"
      },
      "execution_count": null,
      "outputs": [
        {
          "output_type": "execute_result",
          "data": {
            "text/plain": [
              "(7, 4)"
            ]
          },
          "metadata": {},
          "execution_count": 6
        }
      ]
    },
    {
      "cell_type": "markdown",
      "source": [
        "-Com essa observaçao das dimensões, podemos peceber que temos um Data Frame de 7Linhas e 4Colunas(Dia, Horas Trabalhadas, Bugs Corrigidos e Tarefas Concluídas)"
      ],
      "metadata": {
        "id": "kSpgGEkkjbIP"
      }
    },
    {
      "cell_type": "markdown",
      "source": [
        "## Passos para a conclusão das Análises.\n",
        "- Verificando se a espaços nulos ou ausentes de inforaçoes.\n"
      ],
      "metadata": {
        "id": "8rFux_XRj-WQ"
      }
    },
    {
      "cell_type": "code",
      "source": [
        "df_Relatorio.info()\n",
        "#Com a verificação feita podemos partir para a extração dos DAdos."
      ],
      "metadata": {
        "colab": {
          "base_uri": "https://localhost:8080/"
        },
        "id": "S2e9TMpaTqKi",
        "outputId": "465e0ee1-5a32-4d7d-a0ec-0dac53f74dd9"
      },
      "execution_count": null,
      "outputs": [
        {
          "output_type": "stream",
          "name": "stdout",
          "text": [
            "<class 'pandas.core.frame.DataFrame'>\n",
            "RangeIndex: 7 entries, 0 to 6\n",
            "Data columns (total 4 columns):\n",
            " #   Column              Non-Null Count  Dtype \n",
            "---  ------              --------------  ----- \n",
            " 0   Dia                 7 non-null      object\n",
            " 1   Horas Trabalhadas   7 non-null      int64 \n",
            " 2   Bugs Corrigidos     7 non-null      int64 \n",
            " 3   Tarefas Concluídas  7 non-null      int64 \n",
            "dtypes: int64(3), object(1)\n",
            "memory usage: 352.0+ bytes\n"
          ]
        }
      ]
    },
    {
      "cell_type": "markdown",
      "source": [
        "- **Essa verificação é esséncial para que possamos trabalhar com dados sem erros ou dados incompletos**\n",
        "- Com os dados informados, podemos perceber que estamos trabalhando com uma tabela sem espaços null.."
      ],
      "metadata": {
        "id": "HuATpBC7kfT7"
      }
    },
    {
      "cell_type": "markdown",
      "source": [
        "## Com o Data Frame criado podemos Análisar os dados e responder as perguntas que nos foram designadas;\n"
      ],
      "metadata": {
        "id": "EJ0IrS5vNBmz"
      }
    },
    {
      "cell_type": "markdown",
      "source": [
        " **Pergunta 01;**\n",
        "\n",
        "- Qual o total de horas Trabalhadas ao longo de 1 Semana?\n",
        "-Respondendo as perguntas e criando as vizualições das  respostas mais compreensíveis, atráves de graficos para auzxiliar nas respostas obtidas."
      ],
      "metadata": {
        "id": "5yUQx75rDYHD"
      }
    },
    {
      "cell_type": "code",
      "source": [
        "p1 = df_Relatorio['Horas Trabalhadas'].sum()\n",
        "print(f\"O total de horas durante 1 semana foi de {p1} Horas semanais de trbalho. \")"
      ],
      "metadata": {
        "id": "smICrFuPljKz",
        "outputId": "e866abb0-400d-4bfa-97ea-ed8b98b2e42f",
        "colab": {
          "base_uri": "https://localhost:8080/"
        }
      },
      "execution_count": null,
      "outputs": [
        {
          "output_type": "stream",
          "name": "stdout",
          "text": [
            "O total de horas durante 1 semana foi de 43 Horas semanais de trbalho. \n"
          ]
        }
      ]
    },
    {
      "cell_type": "markdown",
      "source": [
        "- Criando o Gráfico de barra para melhor vizualização do resultado;"
      ],
      "metadata": {
        "id": "8ZuxenKKtkOx"
      }
    },
    {
      "cell_type": "code",
      "source": [
        "df_Relatorio.plot(y='Horas Trabalhadas',x = 'Dia', kind='bar')\n",
        "plt.plot(df_Relatorio['Dia'], df_Relatorio['Horas Trabalhadas'], color='Red', marker='o')\n",
        "plt.xlabel('Dia')\n",
        "plt.ylabel('Horas Trabalhadas')\n",
        "plt.title('Horas Trabalhadas por Dia')\n",
        "plt.grid(False)\n",
        "plt.show()\n",
        "\n"
      ],
      "metadata": {
        "colab": {
          "base_uri": "https://localhost:8080/",
          "height": 558
        },
        "id": "c8028bWhb2zA",
        "outputId": "3a082bc4-c454-44dc-a1dc-9e8d8e2151a1"
      },
      "execution_count": null,
      "outputs": [
        {
          "output_type": "display_data",
          "data": {
            "text/plain": [
              "<Figure size 640x480 with 1 Axes>"
            ],
            "image/png": "[encoded data removed]"
          },
          "metadata": {}
        }
      ]
    },
    {
      "cell_type": "markdown",
      "source": [
        "- *Com essa informação podemos ver aonde teve mais picos de carga horaria trabalhada e verficar aonde teve menos Horas de trabalho.*\n",
        "- *Podemos perceber tambem que tivemos a quarta-feria como um dia de 8horas trabalhadas e o domingo que teve apenas 4horas trabalhadas*\n"
      ],
      "metadata": {
        "id": "ImFZxGlIn4te"
      }
    },
    {
      "cell_type": "markdown",
      "source": [
        "- Pergunta 2;\n",
        "\n",
        " Qual é a média diária de Horas Trabalhadas em 1 Semana ?"
      ],
      "metadata": {
        "id": "E6x4E3DymImS"
      }
    },
    {
      "cell_type": "code",
      "source": [
        "p2 = df_Relatorio['Horas Trabalhadas'].mean().round(2)\n",
        "print(f\"A média de horas trabalhadas durante a semana foi de {p2} Horas trabalhadas\")"
      ],
      "metadata": {
        "colab": {
          "base_uri": "https://localhost:8080/"
        },
        "id": "Hsby9UvUln-3",
        "outputId": "75e12e56-1a6c-43ac-889b-f6aab66bcf99"
      },
      "execution_count": null,
      "outputs": [
        {
          "output_type": "stream",
          "name": "stdout",
          "text": [
            "A média de horas trabalhadas durante a semana foi de 6.14 Horas trabalhadas\n"
          ]
        }
      ]
    },
    {
      "cell_type": "markdown",
      "source": [
        "- Com esse valor obtido , podemos observar que a média diária de trabalho dessa empresa gira em torno de 6horas 14Minutos, com isso podemos concluir que em algum dias, não seria necessario trabalhar."
      ],
      "metadata": {
        "id": "7-67D2zZEUFl"
      }
    },
    {
      "cell_type": "markdown",
      "source": [
        "- Pergunta 3;\n",
        "\n",
        "Qual foi o total de Bugs corrigidos ao longo de 1 semana ?"
      ],
      "metadata": {
        "id": "owmdPvCxE0b5"
      }
    },
    {
      "cell_type": "code",
      "source": [
        "p3 = df_Relatorio['Bugs Corrigidos'].sum()\n",
        "print(f'O total de Bugs corrigidos foi de {p3} Bugs por semana. ')\n"
      ],
      "metadata": {
        "colab": {
          "base_uri": "https://localhost:8080/"
        },
        "id": "f6p5lS7IprRE",
        "outputId": "4b168d65-79fb-4e89-dc9d-5de30179ed74"
      },
      "execution_count": null,
      "outputs": [
        {
          "output_type": "stream",
          "name": "stdout",
          "text": [
            "O total de Bugs corrigidos foi de 16 Bugs por semana. \n"
          ]
        }
      ]
    },
    {
      "cell_type": "markdown",
      "source": [
        "- Criando gráfico para melhor visualização do resultado."
      ],
      "metadata": {
        "id": "cr81Z-lMML79"
      }
    },
    {
      "cell_type": "code",
      "source": [
        "plt.figure(figsize=(10, 6))\n",
        "plt.plot(df_Relatorio['Dia'], df_Relatorio['Bugs Corrigidos'], color='green', marker='o')\n",
        "plt.xlabel('Dia')\n",
        "plt.ylabel('Bugs corrigidos')\n",
        "plt.title('Bugs corrigidos por dia ')\n",
        "plt.grid(True)\n",
        "plt.show()\n"
      ],
      "metadata": {
        "id": "PoEDLZ4NnwS2",
        "outputId": "d5f22040-1c92-4c09-a6be-43c876295af3",
        "colab": {
          "base_uri": "https://localhost:8080/",
          "height": 564
        }
      },
      "execution_count": null,
      "outputs": [
        {
          "output_type": "display_data",
          "data": {
            "text/plain": [
              "<Figure size 1000x600 with 1 Axes>"
            ],
            "image/png": "[encoded data removed]"
          },
          "metadata": {}
        }
      ]
    },
    {
      "cell_type": "markdown",
      "source": [
        "- Com esses dados obtidos conseguimos identificar que tivemos alguns dias em que o mínimo de Bugs corrigidos foi de 1um e o máximo de 4quatro bugs corrrigidos por dia.\n",
        "-A equipe corrigiu mais bugs na quinta-feira (4 bugs), mostrando um foco maior em resolver problemas nesse dia.\n",
        "- Domingo foi o dia com menos bugs corrigidos (1 bug), talvez indicando um período mais tranquilo em termos de detecção e resolução de erros."
      ],
      "metadata": {
        "id": "eaIiVuNvE6tZ"
      }
    },
    {
      "cell_type": "markdown",
      "source": [
        "- Pergunta 04;\n",
        "- Qual a Média Díaria de Bugs corrigidos em 1 semana de Trabalho ?"
      ],
      "metadata": {
        "id": "IYdSAfLwFQjY"
      }
    },
    {
      "cell_type": "code",
      "source": [
        "p4 = df_Relatorio['Bugs Corrigidos'].mean().round(2)\n",
        "print(df_Relatorio.loc[(df_Relatorio['Bugs Corrigidos'] > p4)])\n",
        "p4"
      ],
      "metadata": {
        "colab": {
          "base_uri": "https://localhost:8080/"
        },
        "id": "7lRkwfGvu5Qi",
        "outputId": "8322dda8-401e-48a2-c79d-ba6a3203372c"
      },
      "execution_count": null,
      "outputs": [
        {
          "output_type": "stream",
          "name": "stdout",
          "text": [
            "             Dia  Horas Trabalhadas  Bugs Corrigidos  Tarefas Concluídas\n",
            "0  Segunda-Feira                  6                3                   5\n",
            "3   Quinta-Feira                  6                4                   4\n",
            "4    Sexta-Feira                  7                3                   5\n"
          ]
        },
        {
          "output_type": "execute_result",
          "data": {
            "text/plain": [
              "2.29"
            ]
          },
          "metadata": {},
          "execution_count": 15
        }
      ]
    },
    {
      "cell_type": "markdown",
      "source": [
        "- Com esse dados podemos observar que o total de Bugs corrigidos por dia foi de 2.29."
      ],
      "metadata": {
        "id": "B7AbAHxnFgu8"
      }
    },
    {
      "cell_type": "markdown",
      "source": [
        "## Pergunta 05 ;\n",
        "- Qual o total de Tarefás concluídas, durante a semana?"
      ],
      "metadata": {
        "id": "P0xU6o66RIA1"
      }
    },
    {
      "cell_type": "code",
      "source": [
        "p5 = df_Relatorio['Tarefas Concluídas'].sum()\n",
        "print(f'O total de tarefás concluídas durante a semana foi de {p5} Tarefas. ')\n",
        "\n",
        "\n"
      ],
      "metadata": {
        "colab": {
          "base_uri": "https://localhost:8080/"
        },
        "id": "DynnShO-zY-p",
        "outputId": "10b83448-5340-4d5e-9a32-a6dad7745a41"
      },
      "execution_count": null,
      "outputs": [
        {
          "output_type": "stream",
          "name": "stdout",
          "text": [
            "O total de tarefás concluídas durante a semana foi de 29 Tarefas. \n"
          ]
        }
      ]
    },
    {
      "cell_type": "markdown",
      "source": [
        "- Com o resultado de 29 Tarefas Concluídas por semana, podemos observar que tiveos picos e vales de realizações de tarefas, e que em certos dias, a equipe ja não consegue entregar bons resultados."
      ],
      "metadata": {
        "id": "BISzyBmpGSQx"
      }
    },
    {
      "cell_type": "markdown",
      "source": [
        "# Média diária de tarefas concluidas;\n",
        "- Pergunta 6;\n",
        "- Qual a média Diária de tarefas concluídas?"
      ],
      "metadata": {
        "id": "NVf7zQ8AHPfp"
      }
    },
    {
      "cell_type": "code",
      "source": [
        "p6 = df_Relatorio['Tarefas Concluídas'].mean().round(2)\n",
        "p6"
      ],
      "metadata": {
        "colab": {
          "base_uri": "https://localhost:8080/"
        },
        "id": "CiHpXAGSyeuj",
        "outputId": "00861dfa-de66-4157-8cba-81c0ffcad373"
      },
      "execution_count": null,
      "outputs": [
        {
          "output_type": "execute_result",
          "data": {
            "text/plain": [
              "4.14"
            ]
          },
          "metadata": {},
          "execution_count": 29
        }
      ]
    },
    {
      "cell_type": "markdown",
      "source": [
        "- Com o resultado da média de tarefas concluídas, podemos observar que o mínimo de tarefas concluídas foi de 4.14."
      ],
      "metadata": {
        "id": "eD2XCkLdTLmL"
      }
    },
    {
      "cell_type": "code",
      "source": [
        "df_Relatorio.loc[(df_Relatorio['Tarefas Concluídas'] > p6)]"
      ],
      "metadata": {
        "id": "jcjvcYPwTE7J",
        "outputId": "fa2f73c0-f4b4-48b8-b5bd-aed3929a7b0f",
        "colab": {
          "base_uri": "https://localhost:8080/",
          "height": 144
        }
      },
      "execution_count": null,
      "outputs": [
        {
          "output_type": "execute_result",
          "data": {
            "text/plain": [
              "             Dia  Horas Trabalhadas  Bugs Corrigidos  Tarefas Concluídas\n",
              "0  Segunda-Feira                  6                3                   5\n",
              "2   Quarta-feira                  8                1                   6\n",
              "4    Sexta-Feira                  7                3                   5"
            ],
            "text/html": [
              "\n",
              "\n",
              "  <div id=\"df-633de140-eaf7-4f25-8e76-aca088e62f69\">\n",
              "    <div class=\"colab-df-container\">\n",
              "      <div>\n",
              "<style scoped>\n",
              "    .dataframe tbody tr th:only-of-type {\n",
              "        vertical-align: middle;\n",
              "    }\n",
              "\n",
              "    .dataframe tbody tr th {\n",
              "        vertical-align: top;\n",
              "    }\n",
              "\n",
              "    .dataframe thead th {\n",
              "        text-align: right;\n",
              "    }\n",
              "</style>\n",
              "<table border=\"1\" class=\"dataframe\">\n",
              "  <thead>\n",
              "    <tr style=\"text-align: right;\">\n",
              "      <th></th>\n",
              "      <th>Dia</th>\n",
              "      <th>Horas Trabalhadas</th>\n",
              "      <th>Bugs Corrigidos</th>\n",
              "      <th>Tarefas Concluídas</th>\n",
              "    </tr>\n",
              "  </thead>\n",
              "  <tbody>\n",
              "    <tr>\n",
              "      <th>0</th>\n",
              "      <td>Segunda-Feira</td>\n",
              "      <td>6</td>\n",
              "      <td>3</td>\n",
              "      <td>5</td>\n",
              "    </tr>\n",
              "    <tr>\n",
              "      <th>2</th>\n",
              "      <td>Quarta-feira</td>\n",
              "      <td>8</td>\n",
              "      <td>1</td>\n",
              "      <td>6</td>\n",
              "    </tr>\n",
              "    <tr>\n",
              "      <th>4</th>\n",
              "      <td>Sexta-Feira</td>\n",
              "      <td>7</td>\n",
              "      <td>3</td>\n",
              "      <td>5</td>\n",
              "    </tr>\n",
              "  </tbody>\n",
              "</table>\n",
              "</div>\n",
              "      <button class=\"colab-df-convert\" onclick=\"convertToInteractive('df-633de140-eaf7-4f25-8e76-aca088e62f69')\"\n",
              "              title=\"Convert this dataframe to an interactive table.\"\n",
              "              style=\"display:none;\">\n",
              "\n",
              "  <svg xmlns=\"http://www.w3.org/2000/svg\" height=\"24px\"viewBox=\"0 0 24 24\"\n",
              "       width=\"24px\">\n",
              "    <path d=\"M0 0h24v24H0V0z\" fill=\"none\"/>\n",
              "    <path d=\"M18.56 5.44l.94 2.06.94-2.06 2.06-.94-2.06-.94-.94-2.06-.94 2.06-2.06.94zm-11 1L8.5 8.5l.94-2.06 2.06-.94-2.06-.94L8.5 2.5l-.94 2.06-2.06.94zm10 10l.94 2.06.94-2.06 2.06-.94-2.06-.94-.94-2.06-.94 2.06-2.06.94z\"/><path d=\"M17.41 7.96l-1.37-1.37c-.4-.4-.92-.59-1.43-.59-.52 0-1.04.2-1.43.59L10.3 9.45l-7.72 7.72c-.78.78-.78 2.05 0 2.83L4 21.41c.39.39.9.59 1.41.59.51 0 1.02-.2 1.41-.59l7.78-7.78 2.81-2.81c.8-.78.8-2.07 0-2.86zM5.41 20L4 18.59l7.72-7.72 1.47 1.35L5.41 20z\"/>\n",
              "  </svg>\n",
              "      </button>\n",
              "\n",
              "\n",
              "\n",
              "    <div id=\"df-292b213c-9e3c-4f10-bf8c-08d59a11b3cc\">\n",
              "      <button class=\"colab-df-quickchart\" onclick=\"quickchart('df-292b213c-9e3c-4f10-bf8c-08d59a11b3cc')\"\n",
              "              title=\"Suggest charts.\"\n",
              "              style=\"display:none;\">\n",
              "\n",
              "<svg xmlns=\"http://www.w3.org/2000/svg\" height=\"24px\"viewBox=\"0 0 24 24\"\n",
              "     width=\"24px\">\n",
              "    <g>\n",
              "        <path d=\"M19 3H5c-1.1 0-2 .9-2 2v14c0 1.1.9 2 2 2h14c1.1 0 2-.9 2-2V5c0-1.1-.9-2-2-2zM9 17H7v-7h2v7zm4 0h-2V7h2v10zm4 0h-2v-4h2v4z\"/>\n",
              "    </g>\n",
              "</svg>\n",
              "      </button>\n",
              "    </div>\n",
              "\n",
              "<style>\n",
              "  .colab-df-quickchart {\n",
              "    background-color: #E8F0FE;\n",
              "    border: none;\n",
              "    border-radius: 50%;\n",
              "    cursor: pointer;\n",
              "    display: none;\n",
              "    fill: #1967D2;\n",
              "    height: 32px;\n",
              "    padding: 0 0 0 0;\n",
              "    width: 32px;\n",
              "  }\n",
              "\n",
              "  .colab-df-quickchart:hover {\n",
              "    background-color: #E2EBFA;\n",
              "    box-shadow: 0px 1px 2px rgba(60, 64, 67, 0.3), 0px 1px 3px 1px rgba(60, 64, 67, 0.15);\n",
              "    fill: #174EA6;\n",
              "  }\n",
              "\n",
              "  [theme=dark] .colab-df-quickchart {\n",
              "    background-color: #3B4455;\n",
              "    fill: #D2E3FC;\n",
              "  }\n",
              "\n",
              "  [theme=dark] .colab-df-quickchart:hover {\n",
              "    background-color: #434B5C;\n",
              "    box-shadow: 0px 1px 3px 1px rgba(0, 0, 0, 0.15);\n",
              "    filter: drop-shadow(0px 1px 2px rgba(0, 0, 0, 0.3));\n",
              "    fill: #FFFFFF;\n",
              "  }\n",
              "</style>\n",
              "\n",
              "    <script>\n",
              "      async function quickchart(key) {\n",
              "        const containerElement = document.querySelector('#' + key);\n",
              "        const charts = await google.colab.kernel.invokeFunction(\n",
              "            'suggestCharts', [key], {});\n",
              "      }\n",
              "    </script>\n",
              "\n",
              "      <script>\n",
              "\n",
              "function displayQuickchartButton(domScope) {\n",
              "  let quickchartButtonEl =\n",
              "    domScope.querySelector('#df-292b213c-9e3c-4f10-bf8c-08d59a11b3cc button.colab-df-quickchart');\n",
              "  quickchartButtonEl.style.display =\n",
              "    google.colab.kernel.accessAllowed ? 'block' : 'none';\n",
              "}\n",
              "\n",
              "        displayQuickchartButton(document);\n",
              "      </script>\n",
              "      <style>\n",
              "    .colab-df-container {\n",
              "      display:flex;\n",
              "      flex-wrap:wrap;\n",
              "      gap: 12px;\n",
              "    }\n",
              "\n",
              "    .colab-df-convert {\n",
              "      background-color: #E8F0FE;\n",
              "      border: none;\n",
              "      border-radius: 50%;\n",
              "      cursor: pointer;\n",
              "      display: none;\n",
              "      fill: #1967D2;\n",
              "      height: 32px;\n",
              "      padding: 0 0 0 0;\n",
              "      width: 32px;\n",
              "    }\n",
              "\n",
              "    .colab-df-convert:hover {\n",
              "      background-color: #E2EBFA;\n",
              "      box-shadow: 0px 1px 2px rgba(60, 64, 67, 0.3), 0px 1px 3px 1px rgba(60, 64, 67, 0.15);\n",
              "      fill: #174EA6;\n",
              "    }\n",
              "\n",
              "    [theme=dark] .colab-df-convert {\n",
              "      background-color: #3B4455;\n",
              "      fill: #D2E3FC;\n",
              "    }\n",
              "\n",
              "    [theme=dark] .colab-df-convert:hover {\n",
              "      background-color: #434B5C;\n",
              "      box-shadow: 0px 1px 3px 1px rgba(0, 0, 0, 0.15);\n",
              "      filter: drop-shadow(0px 1px 2px rgba(0, 0, 0, 0.3));\n",
              "      fill: #FFFFFF;\n",
              "    }\n",
              "  </style>\n",
              "\n",
              "      <script>\n",
              "        const buttonEl =\n",
              "          document.querySelector('#df-633de140-eaf7-4f25-8e76-aca088e62f69 button.colab-df-convert');\n",
              "        buttonEl.style.display =\n",
              "          google.colab.kernel.accessAllowed ? 'block' : 'none';\n",
              "\n",
              "        async function convertToInteractive(key) {\n",
              "          const element = document.querySelector('#df-633de140-eaf7-4f25-8e76-aca088e62f69');\n",
              "          const dataTable =\n",
              "            await google.colab.kernel.invokeFunction('convertToInteractive',\n",
              "                                                     [key], {});\n",
              "          if (!dataTable) return;\n",
              "\n",
              "          const docLinkHtml = 'Like what you see? Visit the ' +\n",
              "            '<a target=\"_blank\" href=https://colab.research.google.com/notebooks/data_table.ipynb>data table notebook</a>'\n",
              "            + ' to learn more about interactive tables.';\n",
              "          element.innerHTML = '';\n",
              "          dataTable['output_type'] = 'display_data';\n",
              "          await google.colab.output.renderOutput(dataTable, element);\n",
              "          const docLink = document.createElement('div');\n",
              "          docLink.innerHTML = docLinkHtml;\n",
              "          element.appendChild(docLink);\n",
              "        }\n",
              "      </script>\n",
              "    </div>\n",
              "  </div>\n"
            ]
          },
          "metadata": {},
          "execution_count": 31
        }
      ]
    },
    {
      "cell_type": "markdown",
      "source": [
        "- Com essa informação, podemos ver os dias em que a equipe concluiu mais Tarefas do que a média, que são eles:\n",
        "( Segunda-Feira, Quarta-Feira e Sexta_Feria).\n",
        "- Concluindo assim que tivemos uma media de 4.14 tarefas concluídas diariamente , percebendo assim que todos os dias tiveram exito em concluir pelo menos 3 tarefas."
      ],
      "metadata": {
        "id": "hX1Y8Jb6TEgh"
      }
    },
    {
      "cell_type": "markdown",
      "source": [
        "# Produtividade diária(Tarefas concluídas por hora)\n",
        "- Criando uma nova coluna chamada de Produtividade_Diária."
      ],
      "metadata": {
        "id": "6Xejcp_QyTV1"
      }
    },
    {
      "cell_type": "code",
      "source": [
        "# Cálculo da Produtividade Diária (Tarefas Concluídas por Hora)\n",
        "df_Relatorio['Produtividade Diária'] = df_Relatorio['Tarefas Concluídas'] / df_Relatorio['Horas Trabalhadas']\n",
        "df_Relatorio['Produtividade Diária']"
      ],
      "metadata": {
        "id": "p1vzP6q4Wp13",
        "outputId": "7a7c149c-8704-4b52-853a-a51425e25386",
        "colab": {
          "base_uri": "https://localhost:8080/"
        }
      },
      "execution_count": null,
      "outputs": [
        {
          "output_type": "execute_result",
          "data": {
            "text/plain": [
              "0    0.833333\n",
              "1    0.571429\n",
              "2    0.750000\n",
              "3    0.666667\n",
              "4    0.714286\n",
              "5    0.600000\n",
              "6    0.500000\n",
              "Name: Produtividade Diária, dtype: float64"
            ]
          },
          "metadata": {},
          "execution_count": 44
        }
      ]
    },
    {
      "cell_type": "markdown",
      "source": [
        "- Com esse cálculo feito , podemos observar a produtividade, que gira em torno de 0.66 por dia."
      ],
      "metadata": {
        "id": "4VPxG58BXvTl"
      }
    },
    {
      "cell_type": "markdown",
      "source": [
        "- Criando o grafico para melhor análise da resposta;\n",
        "\n"
      ],
      "metadata": {
        "id": "Qm9pMesRYe9y"
      }
    },
    {
      "cell_type": "markdown",
      "source": [
        " -  Plotando o gráfico de linha para visualizar a produtividade diária\n"
      ],
      "metadata": {
        "id": "dg0yE4t8Yy3_"
      }
    },
    {
      "cell_type": "code",
      "source": [
        "plt.figure(figsize=(8, 6))\n",
        "plt.plot(df_Relatorio['Dia'], df_Relatorio['Produtividade Diária'], marker='o', color='orange')\n",
        "plt.title('Produtividade Diária (Tarefas Concluídas por Hora)')\n",
        "plt.xlabel('Dia da Semana')\n",
        "plt.ylabel('Produtividade Diária (Tarefas Concluídas por Hora)')\n",
        "plt.xticks(rotation=400)\n",
        "plt.grid()\n",
        "plt.show()\n"
      ],
      "metadata": {
        "id": "xicbiccDVWbj",
        "outputId": "79d00370-fb50-4e55-9a2c-f84cc26d87e1",
        "colab": {
          "base_uri": "https://localhost:8080/",
          "height": 626
        }
      },
      "execution_count": null,
      "outputs": [
        {
          "output_type": "display_data",
          "data": {
            "text/plain": [
              "<Figure size 800x600 with 1 Axes>"
            ],
            "image/png": "[encoded data removed]"
          },
          "metadata": {}
        }
      ]
    },
    {
      "cell_type": "markdown",
      "source": [
        "- Criamos esse grafico de produtividade para que ele possa orientarmos aonde são os dias em que a produtividade Diária foi maior em relação ao tempo de trabalho."
      ],
      "metadata": {
        "id": "NGqQx9lvHwoL"
      }
    },
    {
      "cell_type": "markdown",
      "source": [
        "## Conclusão ✅"
      ],
      "metadata": {
        "id": "cn-fZyqSZGaC"
      }
    },
    {
      "cell_type": "markdown",
      "source": [
        "- A análise dos dados fornecidos nos permitiu obter alguns insigths importantes sobre o desempenho da equipe ao longo da semana elas são:\n",
        "- Horas Trabalhadas: A equipe trabalhou, em média, aproximadamente 6,14 horas por dia. A variação das horas trabalhadas foi relativamente pequena, com um mínimo de 4 horas (no domingo) e um máximo de 8 horas (na quarta-feira).\n",
        "\n",
        "- Bugs Corrigidos: Durante uma semana, foram corrigidos um total de 16 bugs. A distribuição de bugs corrigidos ao longo dos dias foi variada, com o maior número de correções registradas na quinta-feira e  (4 bugs) e o menor número na quarta-feira e domingo (1 bug).\n",
        "\n",
        "- Tarefas Concluídas: Ao longo da semana, um total de 29 tarefas foram concluídas. A quarta-feira foi o dia mais produtivo, com 6 tarefas concluídas, enquanto o domingo teve o menor número de tarefas concluídas (apenas 2).\n",
        "\n",
        "- Produtividade Diária (Tarefas Concluídas por Hora): A produtividade diária, medida pelo número de tarefas concluídas por hora de trabalho, vários ao longo da semana. As quartas e quintas-feiras tiveram maior produtividade, com aproximadamente 0,75 tarefas concluídas por hora, enquanto o domingo teve a menor produtividade, com aproximadamente 0,50 tarefas concluídas por hora."
      ],
      "metadata": {
        "id": "EwOr8zN9Zlxm"
      }
    },
    {
      "cell_type": "code",
      "source": [],
      "metadata": {
        "id": "mk14fRXmaMjq"
      },
      "execution_count": null,
      "outputs": []
    }
  ]
}